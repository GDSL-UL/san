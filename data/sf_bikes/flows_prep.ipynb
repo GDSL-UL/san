{
 "cells": [
  {
   "cell_type": "code",
   "execution_count": 1,
   "metadata": {
    "collapsed": true
   },
   "outputs": [],
   "source": [
    "%matplotlib inline\n",
    "\n",
    "import json\n",
    "import requests\n",
    "import zipfile\n",
    "import pandas as pd\n",
    "import geopandas as gpd\n",
    "import polyline as pl\n",
    "import googlemaps\n",
    "from itertools import permutations, combinations\n",
    "from shapely.geometry import LineString"
   ]
  },
  {
   "cell_type": "markdown",
   "metadata": {},
   "source": [
    "# Data prep for flows tutorial\n",
    "\n",
    "This notebook compiles steps required to compile street and straight distances between all bike share stations within the city of San Francisco and obtain the number of trips that were taken over the period of September 2015 to August 2016. This relies on the following two files:\n",
    "\n",
    "* Stations"
   ]
  },
  {
   "cell_type": "code",
   "execution_count": 2,
   "metadata": {
    "collapsed": true
   },
   "outputs": [],
   "source": [
    "url_stns = 'http://www.bayareabikeshare.com/stations/json'"
   ]
  },
  {
   "cell_type": "markdown",
   "metadata": {},
   "source": [
    "* Trips"
   ]
  },
  {
   "cell_type": "code",
   "execution_count": 4,
   "metadata": {
    "collapsed": true
   },
   "outputs": [],
   "source": [
    "url_trips14_15 = 'https://s3.amazonaws.com/babs-open-data/babs_open_data_year_2.zip'"
   ]
  },
  {
   "cell_type": "code",
   "execution_count": 3,
   "metadata": {
    "collapsed": true
   },
   "outputs": [],
   "source": [
    "url_trips15_16 = 'https://s3.amazonaws.com/babs-open-data/babs_open_data_year_3.zip'"
   ]
  },
  {
   "cell_type": "markdown",
   "metadata": {},
   "source": [
    "---\n",
    "\n",
    "TOC:\n",
    "\n",
    "* [Distances](#Distances)\n",
    "* [Trips](#Trips)"
   ]
  },
  {
   "cell_type": "markdown",
   "metadata": {},
   "source": [
    "## Distances"
   ]
  },
  {
   "cell_type": "markdown",
   "metadata": {},
   "source": [
    "* Reading the stations file. Keep only those in San Francisco:"
   ]
  },
  {
   "cell_type": "code",
   "execution_count": 4,
   "metadata": {
    "collapsed": false
   },
   "outputs": [
    {
     "data": {
      "text/html": [
       "<div>\n",
       "<table border=\"1\" class=\"dataframe\">\n",
       "  <thead>\n",
       "    <tr style=\"text-align: right;\">\n",
       "      <th></th>\n",
       "      <th>altitude</th>\n",
       "      <th>availableBikes</th>\n",
       "      <th>availableDocks</th>\n",
       "      <th>city</th>\n",
       "      <th>id</th>\n",
       "      <th>is_renting</th>\n",
       "      <th>landMark</th>\n",
       "      <th>lastCommunicationTime</th>\n",
       "      <th>latitude</th>\n",
       "      <th>location</th>\n",
       "      <th>longitude</th>\n",
       "      <th>postalCode</th>\n",
       "      <th>stAddress1</th>\n",
       "      <th>stAddress2</th>\n",
       "      <th>stationName</th>\n",
       "      <th>status</th>\n",
       "      <th>statusKey</th>\n",
       "      <th>statusValue</th>\n",
       "      <th>testStation</th>\n",
       "      <th>totalDocks</th>\n",
       "    </tr>\n",
       "  </thead>\n",
       "  <tbody>\n",
       "    <tr>\n",
       "      <th>14</th>\n",
       "      <td></td>\n",
       "      <td>10</td>\n",
       "      <td>9</td>\n",
       "      <td>San Francisco</td>\n",
       "      <td>39</td>\n",
       "      <td>True</td>\n",
       "      <td>San Francisco</td>\n",
       "      <td>2017-03-12 15:54:33</td>\n",
       "      <td>37.783871</td>\n",
       "      <td>San Francisco</td>\n",
       "      <td>-122.408433</td>\n",
       "      <td></td>\n",
       "      <td>Powell Street BART</td>\n",
       "      <td>Market</td>\n",
       "      <td>Powell Street BART</td>\n",
       "      <td>IN_SERVICE</td>\n",
       "      <td>1</td>\n",
       "      <td>In Service</td>\n",
       "      <td>False</td>\n",
       "      <td>19</td>\n",
       "    </tr>\n",
       "    <tr>\n",
       "      <th>15</th>\n",
       "      <td></td>\n",
       "      <td>3</td>\n",
       "      <td>12</td>\n",
       "      <td>San Francisco</td>\n",
       "      <td>41</td>\n",
       "      <td>True</td>\n",
       "      <td>San Francisco</td>\n",
       "      <td>2017-03-12 15:54:02</td>\n",
       "      <td>37.795001</td>\n",
       "      <td></td>\n",
       "      <td>-122.399970</td>\n",
       "      <td></td>\n",
       "      <td>Clay at Battery</td>\n",
       "      <td>Clay Street</td>\n",
       "      <td>Clay at Battery</td>\n",
       "      <td>IN_SERVICE</td>\n",
       "      <td>1</td>\n",
       "      <td>In Service</td>\n",
       "      <td>False</td>\n",
       "      <td>15</td>\n",
       "    </tr>\n",
       "    <tr>\n",
       "      <th>16</th>\n",
       "      <td></td>\n",
       "      <td>3</td>\n",
       "      <td>12</td>\n",
       "      <td>San Francisco</td>\n",
       "      <td>42</td>\n",
       "      <td>True</td>\n",
       "      <td>San Francisco</td>\n",
       "      <td>2017-03-12 15:50:51</td>\n",
       "      <td>37.797280</td>\n",
       "      <td></td>\n",
       "      <td>-122.398436</td>\n",
       "      <td></td>\n",
       "      <td>Davis at Jackson</td>\n",
       "      <td>Davis Street</td>\n",
       "      <td>Davis at Jackson</td>\n",
       "      <td>IN_SERVICE</td>\n",
       "      <td>1</td>\n",
       "      <td>In Service</td>\n",
       "      <td>False</td>\n",
       "      <td>15</td>\n",
       "    </tr>\n",
       "  </tbody>\n",
       "</table>\n",
       "</div>"
      ],
      "text/plain": [
       "   altitude  availableBikes  availableDocks           city  id is_renting  \\\n",
       "14                       10               9  San Francisco  39       True   \n",
       "15                        3              12  San Francisco  41       True   \n",
       "16                        3              12  San Francisco  42       True   \n",
       "\n",
       "         landMark lastCommunicationTime   latitude       location   longitude  \\\n",
       "14  San Francisco   2017-03-12 15:54:33  37.783871  San Francisco -122.408433   \n",
       "15  San Francisco   2017-03-12 15:54:02  37.795001                -122.399970   \n",
       "16  San Francisco   2017-03-12 15:50:51  37.797280                -122.398436   \n",
       "\n",
       "   postalCode          stAddress1    stAddress2         stationName  \\\n",
       "14             Powell Street BART        Market  Powell Street BART   \n",
       "15                Clay at Battery   Clay Street     Clay at Battery   \n",
       "16               Davis at Jackson  Davis Street    Davis at Jackson   \n",
       "\n",
       "        status  statusKey statusValue testStation  totalDocks  \n",
       "14  IN_SERVICE          1  In Service       False          19  \n",
       "15  IN_SERVICE          1  In Service       False          15  \n",
       "16  IN_SERVICE          1  In Service       False          15  "
      ]
     },
     "execution_count": 4,
     "metadata": {},
     "output_type": "execute_result"
    }
   ],
   "source": [
    "js = json.loads(requests.get(url_stns).text)\n",
    "\n",
    "stns = pd.DataFrame(js['stationBeanList'])\n",
    "\n",
    "stns = stns.loc[stns['landMark']=='San Francisco', :]\n",
    "stns.head(3)"
   ]
  },
  {
   "cell_type": "markdown",
   "metadata": {},
   "source": [
    "* Compiling all possible destinations from station to station."
   ]
  },
  {
   "cell_type": "code",
   "execution_count": 5,
   "metadata": {
    "collapsed": false
   },
   "outputs": [],
   "source": [
    "od_ids = pd.DataFrame([(i[0], i[1], str(i[0])+'-'+str(i[1])) for i in\n",
    "             permutations(stns['id'], 2)],\n",
    "                      columns=['orig', 'dest', 'flow_id'])\n",
    "od_ids['line'] = None"
   ]
  },
  {
   "cell_type": "markdown",
   "metadata": {},
   "source": [
    "* Pull lines + distance from Google"
   ]
  },
  {
   "cell_type": "code",
   "execution_count": 6,
   "metadata": {
    "collapsed": false
   },
   "outputs": [],
   "source": [
    "key = open('key').readline().strip('\\n')\n",
    "gmaps = googlemaps.Client(key=key)"
   ]
  },
  {
   "cell_type": "code",
   "execution_count": 7,
   "metadata": {
    "collapsed": false
   },
   "outputs": [
    {
     "name": "stdout",
     "output_type": "stream",
     "text": [
      "CPU times: user 22.3 s, sys: 1.18 s, total: 23.4 s\n",
      "Wall time: 3min 21s\n"
     ]
    }
   ],
   "source": [
    "%%time\n",
    "for id, pair in od_ids.iterrows():\n",
    "    xy1 = stns.loc[\\\n",
    "            stns['id']==pair['orig'], ['latitude', 'longitude']\\\n",
    "                  ].iloc[0].tolist()\n",
    "    xy2 = stns.loc[\\\n",
    "            stns['id']==pair['dest'], ['latitude', 'longitude']\\\n",
    "                  ].iloc[0].tolist()\n",
    "    drs = gmaps.directions(xy1, xy2, mode='bicycling')\n",
    "    line = drs[0]['overview_polyline']['points']\n",
    "    od_ids.loc[id, 'line'] = line"
   ]
  },
  {
   "cell_type": "code",
   "execution_count": 8,
   "metadata": {
    "collapsed": true
   },
   "outputs": [],
   "source": [
    "# Save just in case\n",
    "od_ids.to_csv('lines.csv')"
   ]
  },
  {
   "cell_type": "markdown",
   "metadata": {},
   "source": [
    "* Encode trips as `shapely` line objects decoding them with [`polyline`](https://pypi.python.org/pypi/polyline/1.3.2)."
   ]
  },
  {
   "cell_type": "code",
   "execution_count": 9,
   "metadata": {
    "collapsed": true
   },
   "outputs": [],
   "source": [
    "def rearrange(l):\n",
    "    '''\n",
    "    Swap latitude for longitude so it conforms\n",
    "    to XY as `LineString` expects\n",
    "    '''\n",
    "    return list(map(lambda t: t[::-1], l))"
   ]
  },
  {
   "cell_type": "code",
   "execution_count": 10,
   "metadata": {
    "collapsed": false
   },
   "outputs": [],
   "source": [
    "od_ids['geometry'] = od_ids['line'].apply(\\\n",
    "                    lambda l: LineString(\\\n",
    "                               rearrange(pl.decode(l))\\\n",
    "                                        )\\\n",
    "                                             )"
   ]
  },
  {
   "cell_type": "markdown",
   "metadata": {},
   "source": [
    "* Turn the table into a `GeoDataFrame`"
   ]
  },
  {
   "cell_type": "code",
   "execution_count": 11,
   "metadata": {
    "collapsed": true
   },
   "outputs": [],
   "source": [
    "od = gpd.GeoDataFrame(od_ids.drop('geometry', axis=1), \\\n",
    "                      geometry=od_ids['geometry'], \\\n",
    "                      crs={'init' :'epsg:4326'})"
   ]
  },
  {
   "cell_type": "markdown",
   "metadata": {},
   "source": [
    "* Project to the NAD83 / California Albers projection ([`EPSG:3310`](http://epsg.io/3310)), expressed in metres."
   ]
  },
  {
   "cell_type": "code",
   "execution_count": 12,
   "metadata": {
    "collapsed": false,
    "scrolled": true
   },
   "outputs": [],
   "source": [
    "od = od.to_crs(epsg=3310)"
   ]
  },
  {
   "cell_type": "markdown",
   "metadata": {},
   "source": [
    "### Distances"
   ]
  },
  {
   "cell_type": "markdown",
   "metadata": {},
   "source": [
    "* Obtain street distances"
   ]
  },
  {
   "cell_type": "code",
   "execution_count": 13,
   "metadata": {
    "collapsed": true
   },
   "outputs": [],
   "source": [
    "od['street_dist'] = od.length"
   ]
  },
  {
   "cell_type": "markdown",
   "metadata": {},
   "source": [
    "* Obtain straight distances"
   ]
  },
  {
   "cell_type": "code",
   "execution_count": 14,
   "metadata": {
    "collapsed": true
   },
   "outputs": [],
   "source": [
    "def straight_dist(line):\n",
    "    xys = line.coords\n",
    "    stl = LineString([xys[0], xys[-1]])\n",
    "    return stl.length"
   ]
  },
  {
   "cell_type": "code",
   "execution_count": 15,
   "metadata": {
    "collapsed": true
   },
   "outputs": [],
   "source": [
    "od['straight_dist'] = od['geometry'].apply(straight_dist)"
   ]
  },
  {
   "cell_type": "markdown",
   "metadata": {},
   "source": [
    "### Elevation"
   ]
  },
  {
   "cell_type": "code",
   "execution_count": 16,
   "metadata": {
    "collapsed": false
   },
   "outputs": [],
   "source": [
    "key = open('key_ele').readline().strip('\\n')\n",
    "gmaps = googlemaps.Client(key=key)"
   ]
  },
  {
   "cell_type": "markdown",
   "metadata": {},
   "source": [
    "* Retriever of elevation every 100 metres approx"
   ]
  },
  {
   "cell_type": "code",
   "execution_count": 92,
   "metadata": {
    "collapsed": true
   },
   "outputs": [],
   "source": [
    "def elevator(row):\n",
    "    # Get N. of samples\n",
    "    n = int( pd.np.round( row['geometry'].length / 100. ) ) \\\n",
    "        + 1\n",
    "    # Call Google\n",
    "    try:\n",
    "        ele = gmaps.elevation_along_path(row['line'], n)\n",
    "        # Extract elevations\n",
    "        path = pd.DataFrame(ele)['elevation']\n",
    "        # Process (min, max, mean, average slope)\n",
    "        ups = []\n",
    "        downs = []\n",
    "        steps = path[1:].shape[0]\n",
    "        if steps == 1:\n",
    "            steps += 1\n",
    "        for i in range(1, steps):\n",
    "            step = path.iloc[i] - path.iloc[i-1]\n",
    "            if step > 0:\n",
    "                ups.append(step)\n",
    "            elif step < 0:\n",
    "                downs.append(step)\n",
    "            else:\n",
    "                pass\n",
    "        total_up = sum(ups)\n",
    "        total_down = sum(downs)\n",
    "        summary =  pd.Series({'total_up': total_up, \\\n",
    "                              'total_down': -total_down,\\\n",
    "                              'flow_id': row['flow_id'],\\\n",
    "                              'profile': path.values\n",
    "                             })\n",
    "    except:\n",
    "        summary =  pd.Series({'total_up': None, \\\n",
    "                              'total_down': None,\\\n",
    "                              'flow_id': row['flow_id'],\\\n",
    "                              'profile': None\n",
    "                             })\n",
    "    return summary"
   ]
  },
  {
   "cell_type": "markdown",
   "metadata": {},
   "source": [
    "* Pull from Google"
   ]
  },
  {
   "cell_type": "code",
   "execution_count": 58,
   "metadata": {
    "collapsed": false
   },
   "outputs": [
    {
     "name": "stdout",
     "output_type": "stream",
     "text": [
      "CPU times: user 15.6 s, sys: 1.19 s, total: 16.8 s\n",
      "Wall time: 4min 10s\n"
     ]
    }
   ],
   "source": [
    "%%time\n",
    "elevations = od.apply(elevator, axis=1)"
   ]
  },
  {
   "cell_type": "markdown",
   "metadata": {},
   "source": [
    "* Join in to `od`"
   ]
  },
  {
   "cell_type": "code",
   "execution_count": 105,
   "metadata": {
    "collapsed": false
   },
   "outputs": [],
   "source": [
    "od = od.join(elevations.set_index('flow_id'), on='flow_id')"
   ]
  },
  {
   "cell_type": "markdown",
   "metadata": {},
   "source": [
    "---"
   ]
  },
  {
   "cell_type": "markdown",
   "metadata": {},
   "source": [
    "* Rearrange for convenience"
   ]
  },
  {
   "cell_type": "code",
   "execution_count": 107,
   "metadata": {
    "collapsed": false
   },
   "outputs": [
    {
     "data": {
      "text/html": [
       "<div>\n",
       "<table border=\"1\" class=\"dataframe\">\n",
       "  <thead>\n",
       "    <tr style=\"text-align: right;\">\n",
       "      <th></th>\n",
       "      <th>geometry</th>\n",
       "      <th>orig</th>\n",
       "      <th>dest</th>\n",
       "      <th>street_dist</th>\n",
       "      <th>straight_dist</th>\n",
       "      <th>total_down</th>\n",
       "      <th>total_up</th>\n",
       "    </tr>\n",
       "    <tr>\n",
       "      <th>flow_id</th>\n",
       "      <th></th>\n",
       "      <th></th>\n",
       "      <th></th>\n",
       "      <th></th>\n",
       "      <th></th>\n",
       "      <th></th>\n",
       "      <th></th>\n",
       "    </tr>\n",
       "  </thead>\n",
       "  <tbody>\n",
       "    <tr>\n",
       "      <th>39-41</th>\n",
       "      <td>LINESTRING (-211794.3346253044 -23163.40897385...</td>\n",
       "      <td>39</td>\n",
       "      <td>41</td>\n",
       "      <td>1804.114975</td>\n",
       "      <td>1452.201024</td>\n",
       "      <td>11.205753</td>\n",
       "      <td>4.698162</td>\n",
       "    </tr>\n",
       "    <tr>\n",
       "      <th>39-42</th>\n",
       "      <td>LINESTRING (-211794.3346253044 -23163.40897385...</td>\n",
       "      <td>39</td>\n",
       "      <td>42</td>\n",
       "      <td>2069.155725</td>\n",
       "      <td>1734.860910</td>\n",
       "      <td>10.290236</td>\n",
       "      <td>2.897886</td>\n",
       "    </tr>\n",
       "    <tr>\n",
       "      <th>39-45</th>\n",
       "      <td>LINESTRING (-211794.3346253044 -23163.40897385...</td>\n",
       "      <td>39</td>\n",
       "      <td>45</td>\n",
       "      <td>1747.992761</td>\n",
       "      <td>1255.349224</td>\n",
       "      <td>11.015596</td>\n",
       "      <td>4.593927</td>\n",
       "    </tr>\n",
       "    <tr>\n",
       "      <th>39-46</th>\n",
       "      <td>LINESTRING (-211794.3346253044 -23163.40897385...</td>\n",
       "      <td>39</td>\n",
       "      <td>46</td>\n",
       "      <td>1490.836113</td>\n",
       "      <td>1323.303409</td>\n",
       "      <td>3.511543</td>\n",
       "      <td>5.038044</td>\n",
       "    </tr>\n",
       "    <tr>\n",
       "      <th>39-47</th>\n",
       "      <td>LINESTRING (-211794.3346253044 -23163.40897385...</td>\n",
       "      <td>39</td>\n",
       "      <td>47</td>\n",
       "      <td>769.918884</td>\n",
       "      <td>715.688981</td>\n",
       "      <td>0.000000</td>\n",
       "      <td>3.282495</td>\n",
       "    </tr>\n",
       "  </tbody>\n",
       "</table>\n",
       "</div>"
      ],
      "text/plain": [
       "                                                  geometry  orig  dest  \\\n",
       "flow_id                                                                  \n",
       "39-41    LINESTRING (-211794.3346253044 -23163.40897385...    39    41   \n",
       "39-42    LINESTRING (-211794.3346253044 -23163.40897385...    39    42   \n",
       "39-45    LINESTRING (-211794.3346253044 -23163.40897385...    39    45   \n",
       "39-46    LINESTRING (-211794.3346253044 -23163.40897385...    39    46   \n",
       "39-47    LINESTRING (-211794.3346253044 -23163.40897385...    39    47   \n",
       "\n",
       "         street_dist  straight_dist  total_down  total_up  \n",
       "flow_id                                                    \n",
       "39-41    1804.114975    1452.201024   11.205753  4.698162  \n",
       "39-42    2069.155725    1734.860910   10.290236  2.897886  \n",
       "39-45    1747.992761    1255.349224   11.015596  4.593927  \n",
       "39-46    1490.836113    1323.303409    3.511543  5.038044  \n",
       "39-47     769.918884     715.688981    0.000000  3.282495  "
      ]
     },
     "execution_count": 107,
     "metadata": {},
     "output_type": "execute_result"
    }
   ],
   "source": [
    "od = od.set_index('flow_id')\\\n",
    "       .loc[:, ['geometry', 'orig', 'dest', \\\n",
    "                'street_dist', 'straight_dist', \\\n",
    "                'total_down', 'total_up']]\n",
    "       \n",
    "od.head()"
   ]
  },
  {
   "cell_type": "markdown",
   "metadata": {},
   "source": [
    "## Trips"
   ]
  },
  {
   "cell_type": "code",
   "execution_count": 32,
   "metadata": {
    "collapsed": false
   },
   "outputs": [
    {
     "data": {
      "text/html": [
       "<div>\n",
       "<table border=\"1\" class=\"dataframe\">\n",
       "  <thead>\n",
       "    <tr style=\"text-align: right;\">\n",
       "      <th></th>\n",
       "      <th>dest</th>\n",
       "      <th>geometry</th>\n",
       "      <th>orig</th>\n",
       "      <th>straight_dist</th>\n",
       "      <th>street_dist</th>\n",
       "      <th>total_down</th>\n",
       "      <th>total_up</th>\n",
       "      <th>trips15</th>\n",
       "      <th>trips16</th>\n",
       "    </tr>\n",
       "    <tr>\n",
       "      <th>flow_id</th>\n",
       "      <th></th>\n",
       "      <th></th>\n",
       "      <th></th>\n",
       "      <th></th>\n",
       "      <th></th>\n",
       "      <th></th>\n",
       "      <th></th>\n",
       "      <th></th>\n",
       "      <th></th>\n",
       "    </tr>\n",
       "  </thead>\n",
       "  <tbody>\n",
       "    <tr>\n",
       "      <th>39-41</th>\n",
       "      <td>41</td>\n",
       "      <td>LINESTRING (-122.40834 37.7838, -122.40639 37....</td>\n",
       "      <td>39</td>\n",
       "      <td>1452.201024</td>\n",
       "      <td>1804.114975</td>\n",
       "      <td>11.205753</td>\n",
       "      <td>4.698162</td>\n",
       "      <td>68.0</td>\n",
       "      <td>68.0</td>\n",
       "    </tr>\n",
       "  </tbody>\n",
       "</table>\n",
       "</div>"
      ],
      "text/plain": [
       "         dest                                           geometry  orig  \\\n",
       "flow_id                                                                  \n",
       "39-41      41  LINESTRING (-122.40834 37.7838, -122.40639 37....    39   \n",
       "\n",
       "         straight_dist  street_dist  total_down  total_up  trips15  trips16  \n",
       "flow_id                                                                      \n",
       "39-41      1452.201024  1804.114975   11.205753  4.698162     68.0     68.0  "
      ]
     },
     "execution_count": 32,
     "metadata": {},
     "output_type": "execute_result"
    }
   ],
   "source": [
    "# If the above done, trips-only can be redone\n",
    "od = gpd.read_file('flows.geojson')\n",
    "od['flow_id'] = od['orig'].astype(str) + '-' + \\\n",
    "                od['dest'].astype(str)\n",
    "od = od.set_index('flow_id')\n",
    "od.head(1)"
   ]
  },
  {
   "cell_type": "markdown",
   "metadata": {},
   "source": [
    "For this, we assume the trips file is downloaded to the same folder as the notebook. If that's not the case, the following cells download it and unpack it."
   ]
  },
  {
   "cell_type": "markdown",
   "metadata": {},
   "source": [
    "---"
   ]
  },
  {
   "cell_type": "markdown",
   "metadata": {},
   "source": [
    "* Download file 2015/16"
   ]
  },
  {
   "cell_type": "code",
   "execution_count": 402,
   "metadata": {
    "collapsed": false
   },
   "outputs": [
    {
     "name": "stdout",
     "output_type": "stream",
     "text": [
      "CPU times: user 2.96 s, sys: 2.41 s, total: 5.37 s\n",
      "Wall time: 1min 46s\n"
     ]
    }
   ],
   "source": [
    "%%time\n",
    "r = requests.get(url_trips15_16)\n",
    "with open('trips.zip', 'wb') as f:\n",
    "    f.write(r.content)"
   ]
  },
  {
   "cell_type": "markdown",
   "metadata": {},
   "source": [
    "* Extract only the file we need from the downloaded `zip` file:"
   ]
  },
  {
   "cell_type": "code",
   "execution_count": 403,
   "metadata": {
    "collapsed": false
   },
   "outputs": [
    {
     "data": {
      "text/plain": [
       "'201608_trip_data.csv'"
      ]
     },
     "execution_count": 403,
     "metadata": {},
     "output_type": "execute_result"
    }
   ],
   "source": [
    "zf = zipfile.ZipFile('trips.zip')\n",
    "zf.extract('201608_trip_data.csv', './')"
   ]
  },
  {
   "cell_type": "markdown",
   "metadata": {},
   "source": [
    "---"
   ]
  },
  {
   "cell_type": "markdown",
   "metadata": {},
   "source": [
    "* Download file 2014/15"
   ]
  },
  {
   "cell_type": "code",
   "execution_count": 5,
   "metadata": {
    "collapsed": false
   },
   "outputs": [
    {
     "name": "stdout",
     "output_type": "stream",
     "text": [
      "CPU times: user 2.13 s, sys: 1.69 s, total: 3.82 s\n",
      "Wall time: 1min 5s\n"
     ]
    }
   ],
   "source": [
    "%%time\n",
    "r = requests.get(url_trips14_15)\n",
    "with open('trips14_15.zip', 'wb') as f:\n",
    "    f.write(r.content)"
   ]
  },
  {
   "cell_type": "markdown",
   "metadata": {},
   "source": [
    "* Extract only the file we need from the downloaded `zip` file:"
   ]
  },
  {
   "cell_type": "code",
   "execution_count": 9,
   "metadata": {
    "collapsed": false
   },
   "outputs": [
    {
     "data": {
      "text/plain": [
       "'201508_trip_data.csv'"
      ]
     },
     "execution_count": 9,
     "metadata": {},
     "output_type": "execute_result"
    }
   ],
   "source": [
    "zf = zipfile.ZipFile('trips14_15.zip')\n",
    "zf.extract('201508_trip_data.csv', './')"
   ]
  },
  {
   "cell_type": "markdown",
   "metadata": {},
   "source": [
    "---"
   ]
  },
  {
   "cell_type": "markdown",
   "metadata": {},
   "source": [
    "* Read the trips in"
   ]
  },
  {
   "cell_type": "code",
   "execution_count": 34,
   "metadata": {
    "collapsed": true
   },
   "outputs": [],
   "source": [
    "trips15 = pd.read_csv('201508_trip_data.csv')"
   ]
  },
  {
   "cell_type": "code",
   "execution_count": 35,
   "metadata": {
    "collapsed": true
   },
   "outputs": [],
   "source": [
    "trips16 = pd.read_csv('201608_trip_data.csv')"
   ]
  },
  {
   "cell_type": "markdown",
   "metadata": {},
   "source": [
    "* ID each trip as above"
   ]
  },
  {
   "cell_type": "code",
   "execution_count": 36,
   "metadata": {
    "collapsed": false
   },
   "outputs": [],
   "source": [
    "trips15['flow_id'] = trips15['Start Terminal'].astype(str) \\\n",
    "                   + '-' + \\\n",
    "                   trips15['End Terminal'].astype(str)"
   ]
  },
  {
   "cell_type": "code",
   "execution_count": 37,
   "metadata": {
    "collapsed": false
   },
   "outputs": [],
   "source": [
    "trips16['flow_id'] = trips16['Start Terminal'].astype(str) \\\n",
    "                   + '-' + \\\n",
    "                   trips16['End Terminal'].astype(str)"
   ]
  },
  {
   "cell_type": "markdown",
   "metadata": {},
   "source": [
    "* Aggregate trips by flow ID and join to flows table *and* fill remaining pairs with zero"
   ]
  },
  {
   "cell_type": "code",
   "execution_count": 38,
   "metadata": {
    "collapsed": false
   },
   "outputs": [],
   "source": [
    "od['trips16'] = pd.DataFrame({'trips16': trips16.groupby('flow_id').size()})\n",
    "od['trips16'] = od['trips16'].fillna(0)"
   ]
  },
  {
   "cell_type": "code",
   "execution_count": 39,
   "metadata": {
    "collapsed": false
   },
   "outputs": [],
   "source": [
    "od['trips15'] = pd.DataFrame({'trips15': trips15.groupby('flow_id').size()})\n",
    "od['trips15'] = od['trips15'].fillna(0)"
   ]
  },
  {
   "cell_type": "code",
   "execution_count": 40,
   "metadata": {
    "collapsed": false
   },
   "outputs": [
    {
     "data": {
      "text/html": [
       "<div>\n",
       "<table border=\"1\" class=\"dataframe\">\n",
       "  <thead>\n",
       "    <tr style=\"text-align: right;\">\n",
       "      <th></th>\n",
       "      <th>dest</th>\n",
       "      <th>geometry</th>\n",
       "      <th>orig</th>\n",
       "      <th>straight_dist</th>\n",
       "      <th>street_dist</th>\n",
       "      <th>total_down</th>\n",
       "      <th>total_up</th>\n",
       "      <th>trips15</th>\n",
       "      <th>trips16</th>\n",
       "    </tr>\n",
       "    <tr>\n",
       "      <th>flow_id</th>\n",
       "      <th></th>\n",
       "      <th></th>\n",
       "      <th></th>\n",
       "      <th></th>\n",
       "      <th></th>\n",
       "      <th></th>\n",
       "      <th></th>\n",
       "      <th></th>\n",
       "      <th></th>\n",
       "    </tr>\n",
       "  </thead>\n",
       "  <tbody>\n",
       "    <tr>\n",
       "      <th>39-41</th>\n",
       "      <td>41</td>\n",
       "      <td>LINESTRING (-122.40834 37.7838, -122.40639 37....</td>\n",
       "      <td>39</td>\n",
       "      <td>1452.201024</td>\n",
       "      <td>1804.114975</td>\n",
       "      <td>11.205753</td>\n",
       "      <td>4.698162</td>\n",
       "      <td>68.0</td>\n",
       "      <td>68.0</td>\n",
       "    </tr>\n",
       "    <tr>\n",
       "      <th>39-42</th>\n",
       "      <td>42</td>\n",
       "      <td>LINESTRING (-122.40834 37.7838, -122.40639 37....</td>\n",
       "      <td>39</td>\n",
       "      <td>1734.860910</td>\n",
       "      <td>2069.155725</td>\n",
       "      <td>10.290236</td>\n",
       "      <td>2.897886</td>\n",
       "      <td>23.0</td>\n",
       "      <td>29.0</td>\n",
       "    </tr>\n",
       "    <tr>\n",
       "      <th>39-45</th>\n",
       "      <td>45</td>\n",
       "      <td>LINESTRING (-122.40834 37.7838, -122.40639 37....</td>\n",
       "      <td>39</td>\n",
       "      <td>1255.349224</td>\n",
       "      <td>1747.992761</td>\n",
       "      <td>11.015596</td>\n",
       "      <td>4.593927</td>\n",
       "      <td>83.0</td>\n",
       "      <td>50.0</td>\n",
       "    </tr>\n",
       "    <tr>\n",
       "      <th>39-46</th>\n",
       "      <td>46</td>\n",
       "      <td>LINESTRING (-122.40834 37.7838, -122.40639 37....</td>\n",
       "      <td>39</td>\n",
       "      <td>1323.303409</td>\n",
       "      <td>1490.836113</td>\n",
       "      <td>3.511543</td>\n",
       "      <td>5.038044</td>\n",
       "      <td>258.0</td>\n",
       "      <td>163.0</td>\n",
       "    </tr>\n",
       "    <tr>\n",
       "      <th>39-47</th>\n",
       "      <td>47</td>\n",
       "      <td>LINESTRING (-122.40834 37.7838, -122.40639 37....</td>\n",
       "      <td>39</td>\n",
       "      <td>715.688981</td>\n",
       "      <td>769.918884</td>\n",
       "      <td>0.000000</td>\n",
       "      <td>3.282495</td>\n",
       "      <td>127.0</td>\n",
       "      <td>73.0</td>\n",
       "    </tr>\n",
       "  </tbody>\n",
       "</table>\n",
       "</div>"
      ],
      "text/plain": [
       "         dest                                           geometry  orig  \\\n",
       "flow_id                                                                  \n",
       "39-41      41  LINESTRING (-122.40834 37.7838, -122.40639 37....    39   \n",
       "39-42      42  LINESTRING (-122.40834 37.7838, -122.40639 37....    39   \n",
       "39-45      45  LINESTRING (-122.40834 37.7838, -122.40639 37....    39   \n",
       "39-46      46  LINESTRING (-122.40834 37.7838, -122.40639 37....    39   \n",
       "39-47      47  LINESTRING (-122.40834 37.7838, -122.40639 37....    39   \n",
       "\n",
       "         straight_dist  street_dist  total_down  total_up  trips15  trips16  \n",
       "flow_id                                                                      \n",
       "39-41      1452.201024  1804.114975   11.205753  4.698162     68.0     68.0  \n",
       "39-42      1734.860910  2069.155725   10.290236  2.897886     23.0     29.0  \n",
       "39-45      1255.349224  1747.992761   11.015596  4.593927     83.0     50.0  \n",
       "39-46      1323.303409  1490.836113    3.511543  5.038044    258.0    163.0  \n",
       "39-47       715.688981   769.918884    0.000000  3.282495    127.0     73.0  "
      ]
     },
     "execution_count": 40,
     "metadata": {},
     "output_type": "execute_result"
    }
   ],
   "source": [
    "od.head()"
   ]
  },
  {
   "cell_type": "markdown",
   "metadata": {},
   "source": [
    "* Reproject to lon/lat"
   ]
  },
  {
   "cell_type": "code",
   "execution_count": 33,
   "metadata": {
    "collapsed": true
   },
   "outputs": [],
   "source": [
    "od = od.to_crs(epsg=4326)"
   ]
  },
  {
   "cell_type": "markdown",
   "metadata": {},
   "source": [
    "* Write out as a `GeoJSON`"
   ]
  },
  {
   "cell_type": "code",
   "execution_count": 41,
   "metadata": {
    "collapsed": false,
    "scrolled": true
   },
   "outputs": [],
   "source": [
    "! rm flows.geojson\n",
    "od.reset_index().to_file('flows.geojson', driver='GeoJSON')"
   ]
  }
 ],
 "metadata": {
  "kernelspec": {
   "display_name": "Python 3",
   "language": "python",
   "name": "python3"
  },
  "language_info": {
   "codemirror_mode": {
    "name": "ipython",
    "version": 3
   },
   "file_extension": ".py",
   "mimetype": "text/x-python",
   "name": "python",
   "nbconvert_exporter": "python",
   "pygments_lexer": "ipython3",
   "version": "3.5.2"
  }
 },
 "nbformat": 4,
 "nbformat_minor": 2
}
